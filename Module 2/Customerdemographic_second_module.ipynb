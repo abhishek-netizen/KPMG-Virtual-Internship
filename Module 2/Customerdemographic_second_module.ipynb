{
 "cells": [
  {
   "cell_type": "code",
   "execution_count": 2,
   "metadata": {},
   "outputs": [],
   "source": [
    "#Lets import required packages\n",
    "import pandas as pd\n",
    "import numpy as np\n",
    "import datetime\n",
    "from matplotlib.ticker import FuncFormatter \n",
    "import matplotlib.pyplot as plt\n",
    "import warnings\n",
    "import math as ma\n",
    "warnings.filterwarnings(\"ignore\")"
   ]
  },
  {
   "cell_type": "code",
   "execution_count": 7,
   "metadata": {},
   "outputs": [],
   "source": [
    "xls = pd.ExcelFile('KPMG_VI_New_raw_data_update_final.xlsx')\n",
    "df = pd.read_excel(xls, 'CustomerDemographic')"
   ]
  },
  {
   "cell_type": "code",
   "execution_count": 9,
   "metadata": {},
   "outputs": [
    {
     "data": {
      "text/html": [
       "<div>\n",
       "<style scoped>\n",
       "    .dataframe tbody tr th:only-of-type {\n",
       "        vertical-align: middle;\n",
       "    }\n",
       "\n",
       "    .dataframe tbody tr th {\n",
       "        vertical-align: top;\n",
       "    }\n",
       "\n",
       "    .dataframe thead th {\n",
       "        text-align: right;\n",
       "    }\n",
       "</style>\n",
       "<table border=\"1\" class=\"dataframe\">\n",
       "  <thead>\n",
       "    <tr style=\"text-align: right;\">\n",
       "      <th></th>\n",
       "      <th>Note: The data and information in this document is reflective of a hypothetical situation and client. This document is to be used for KPMG Virtual Internship purposes only.</th>\n",
       "      <th>Unnamed: 1</th>\n",
       "      <th>Unnamed: 2</th>\n",
       "      <th>Unnamed: 3</th>\n",
       "      <th>Unnamed: 4</th>\n",
       "      <th>Unnamed: 5</th>\n",
       "      <th>Unnamed: 6</th>\n",
       "      <th>Unnamed: 7</th>\n",
       "      <th>Unnamed: 8</th>\n",
       "      <th>Unnamed: 9</th>\n",
       "      <th>Unnamed: 10</th>\n",
       "      <th>Unnamed: 11</th>\n",
       "      <th>Unnamed: 12</th>\n",
       "    </tr>\n",
       "  </thead>\n",
       "  <tbody>\n",
       "    <tr>\n",
       "      <th>0</th>\n",
       "      <td>customer_id</td>\n",
       "      <td>first_name</td>\n",
       "      <td>last_name</td>\n",
       "      <td>gender</td>\n",
       "      <td>past_3_years_bike_related_purchases</td>\n",
       "      <td>DOB</td>\n",
       "      <td>job_title</td>\n",
       "      <td>job_industry_category</td>\n",
       "      <td>wealth_segment</td>\n",
       "      <td>deceased_indicator</td>\n",
       "      <td>default</td>\n",
       "      <td>owns_car</td>\n",
       "      <td>tenure</td>\n",
       "    </tr>\n",
       "    <tr>\n",
       "      <th>1</th>\n",
       "      <td>1</td>\n",
       "      <td>Laraine</td>\n",
       "      <td>Medendorp</td>\n",
       "      <td>F</td>\n",
       "      <td>93</td>\n",
       "      <td>1953-10-12 00:00:00</td>\n",
       "      <td>Executive Secretary</td>\n",
       "      <td>Health</td>\n",
       "      <td>Mass Customer</td>\n",
       "      <td>N</td>\n",
       "      <td>\"'</td>\n",
       "      <td>Yes</td>\n",
       "      <td>11</td>\n",
       "    </tr>\n",
       "    <tr>\n",
       "      <th>2</th>\n",
       "      <td>2</td>\n",
       "      <td>Eli</td>\n",
       "      <td>Bockman</td>\n",
       "      <td>Male</td>\n",
       "      <td>81</td>\n",
       "      <td>1980-12-16 00:00:00</td>\n",
       "      <td>Administrative Officer</td>\n",
       "      <td>Financial Services</td>\n",
       "      <td>Mass Customer</td>\n",
       "      <td>N</td>\n",
       "      <td>&lt;script&gt;alert('hi')&lt;/script&gt;</td>\n",
       "      <td>Yes</td>\n",
       "      <td>16</td>\n",
       "    </tr>\n",
       "  </tbody>\n",
       "</table>\n",
       "</div>"
      ],
      "text/plain": [
       "  Note: The data and information in this document is reflective of a hypothetical situation and client. This document is to be used for KPMG Virtual Internship purposes only.   \\\n",
       "0                                        customer_id                                                                                                                              \n",
       "1                                                  1                                                                                                                              \n",
       "2                                                  2                                                                                                                              \n",
       "\n",
       "   Unnamed: 1 Unnamed: 2 Unnamed: 3                           Unnamed: 4  \\\n",
       "0  first_name  last_name     gender  past_3_years_bike_related_purchases   \n",
       "1     Laraine  Medendorp          F                                   93   \n",
       "2         Eli    Bockman       Male                                   81   \n",
       "\n",
       "            Unnamed: 5              Unnamed: 6             Unnamed: 7  \\\n",
       "0                  DOB               job_title  job_industry_category   \n",
       "1  1953-10-12 00:00:00     Executive Secretary                 Health   \n",
       "2  1980-12-16 00:00:00  Administrative Officer     Financial Services   \n",
       "\n",
       "       Unnamed: 8          Unnamed: 9                   Unnamed: 10  \\\n",
       "0  wealth_segment  deceased_indicator                       default   \n",
       "1   Mass Customer                   N                            \"'   \n",
       "2   Mass Customer                   N  <script>alert('hi')</script>   \n",
       "\n",
       "  Unnamed: 11 Unnamed: 12  \n",
       "0    owns_car      tenure  \n",
       "1         Yes          11  \n",
       "2         Yes          16  "
      ]
     },
     "execution_count": 9,
     "metadata": {},
     "output_type": "execute_result"
    }
   ],
   "source": [
    "df.head(3)"
   ]
  },
  {
   "cell_type": "code",
   "execution_count": 10,
   "metadata": {},
   "outputs": [
    {
     "data": {
      "text/plain": [
       "Index(['Note: The data and information in this document is reflective of a hypothetical situation and client. This document is to be used for KPMG Virtual Internship purposes only. ',\n",
       "       'Unnamed: 1', 'Unnamed: 2', 'Unnamed: 3', 'Unnamed: 4', 'Unnamed: 5',\n",
       "       'Unnamed: 6', 'Unnamed: 7', 'Unnamed: 8', 'Unnamed: 9', 'Unnamed: 10',\n",
       "       'Unnamed: 11', 'Unnamed: 12'],\n",
       "      dtype='object')"
      ]
     },
     "execution_count": 10,
     "metadata": {},
     "output_type": "execute_result"
    }
   ],
   "source": [
    "df.columns"
   ]
  },
  {
   "cell_type": "code",
   "execution_count": 11,
   "metadata": {},
   "outputs": [
    {
     "data": {
      "text/html": [
       "<div>\n",
       "<style scoped>\n",
       "    .dataframe tbody tr th:only-of-type {\n",
       "        vertical-align: middle;\n",
       "    }\n",
       "\n",
       "    .dataframe tbody tr th {\n",
       "        vertical-align: top;\n",
       "    }\n",
       "\n",
       "    .dataframe thead th {\n",
       "        text-align: right;\n",
       "    }\n",
       "</style>\n",
       "<table border=\"1\" class=\"dataframe\">\n",
       "  <thead>\n",
       "    <tr style=\"text-align: right;\">\n",
       "      <th></th>\n",
       "      <th>customer_id</th>\n",
       "      <th>fname</th>\n",
       "      <th>lname</th>\n",
       "      <th>gender</th>\n",
       "      <th>3y_bike_purchases</th>\n",
       "      <th>DOB</th>\n",
       "      <th>JT</th>\n",
       "      <th>Category</th>\n",
       "      <th>wealth_segement</th>\n",
       "      <th>D_Indicator</th>\n",
       "      <th>default</th>\n",
       "      <th>owns_car</th>\n",
       "      <th>tencure</th>\n",
       "    </tr>\n",
       "  </thead>\n",
       "  <tbody>\n",
       "    <tr>\n",
       "      <th>1</th>\n",
       "      <td>1</td>\n",
       "      <td>Laraine</td>\n",
       "      <td>Medendorp</td>\n",
       "      <td>F</td>\n",
       "      <td>93</td>\n",
       "      <td>1953-10-12 00:00:00</td>\n",
       "      <td>Executive Secretary</td>\n",
       "      <td>Health</td>\n",
       "      <td>Mass Customer</td>\n",
       "      <td>N</td>\n",
       "      <td>\"'</td>\n",
       "      <td>Yes</td>\n",
       "      <td>11</td>\n",
       "    </tr>\n",
       "    <tr>\n",
       "      <th>2</th>\n",
       "      <td>2</td>\n",
       "      <td>Eli</td>\n",
       "      <td>Bockman</td>\n",
       "      <td>Male</td>\n",
       "      <td>81</td>\n",
       "      <td>1980-12-16 00:00:00</td>\n",
       "      <td>Administrative Officer</td>\n",
       "      <td>Financial Services</td>\n",
       "      <td>Mass Customer</td>\n",
       "      <td>N</td>\n",
       "      <td>&lt;script&gt;alert('hi')&lt;/script&gt;</td>\n",
       "      <td>Yes</td>\n",
       "      <td>16</td>\n",
       "    </tr>\n",
       "    <tr>\n",
       "      <th>3</th>\n",
       "      <td>3</td>\n",
       "      <td>Arlin</td>\n",
       "      <td>Dearle</td>\n",
       "      <td>Male</td>\n",
       "      <td>61</td>\n",
       "      <td>1954-01-20 00:00:00</td>\n",
       "      <td>Recruiting Manager</td>\n",
       "      <td>Property</td>\n",
       "      <td>Mass Customer</td>\n",
       "      <td>N</td>\n",
       "      <td>2018-02-01 00:00:00</td>\n",
       "      <td>Yes</td>\n",
       "      <td>15</td>\n",
       "    </tr>\n",
       "    <tr>\n",
       "      <th>4</th>\n",
       "      <td>4</td>\n",
       "      <td>Talbot</td>\n",
       "      <td>NaN</td>\n",
       "      <td>Male</td>\n",
       "      <td>33</td>\n",
       "      <td>1961-10-03 00:00:00</td>\n",
       "      <td>NaN</td>\n",
       "      <td>IT</td>\n",
       "      <td>Mass Customer</td>\n",
       "      <td>N</td>\n",
       "      <td>() { _; } &gt;_[$($())] { touch /tmp/blns.shellsh...</td>\n",
       "      <td>No</td>\n",
       "      <td>7</td>\n",
       "    </tr>\n",
       "    <tr>\n",
       "      <th>5</th>\n",
       "      <td>5</td>\n",
       "      <td>Sheila-kathryn</td>\n",
       "      <td>Calton</td>\n",
       "      <td>Female</td>\n",
       "      <td>56</td>\n",
       "      <td>1977-05-13 00:00:00</td>\n",
       "      <td>Senior Editor</td>\n",
       "      <td>NaN</td>\n",
       "      <td>Affluent Customer</td>\n",
       "      <td>N</td>\n",
       "      <td>NIL</td>\n",
       "      <td>Yes</td>\n",
       "      <td>8</td>\n",
       "    </tr>\n",
       "    <tr>\n",
       "      <th>...</th>\n",
       "      <td>...</td>\n",
       "      <td>...</td>\n",
       "      <td>...</td>\n",
       "      <td>...</td>\n",
       "      <td>...</td>\n",
       "      <td>...</td>\n",
       "      <td>...</td>\n",
       "      <td>...</td>\n",
       "      <td>...</td>\n",
       "      <td>...</td>\n",
       "      <td>...</td>\n",
       "      <td>...</td>\n",
       "      <td>...</td>\n",
       "    </tr>\n",
       "    <tr>\n",
       "      <th>3996</th>\n",
       "      <td>3996</td>\n",
       "      <td>Rosalia</td>\n",
       "      <td>Halgarth</td>\n",
       "      <td>Female</td>\n",
       "      <td>8</td>\n",
       "      <td>1975-08-09 00:00:00</td>\n",
       "      <td>VP Product Management</td>\n",
       "      <td>Health</td>\n",
       "      <td>Mass Customer</td>\n",
       "      <td>N</td>\n",
       "      <td>-100</td>\n",
       "      <td>No</td>\n",
       "      <td>19</td>\n",
       "    </tr>\n",
       "    <tr>\n",
       "      <th>3997</th>\n",
       "      <td>3997</td>\n",
       "      <td>Blanch</td>\n",
       "      <td>Nisuis</td>\n",
       "      <td>Female</td>\n",
       "      <td>87</td>\n",
       "      <td>2001-07-13 00:00:00</td>\n",
       "      <td>Statistician II</td>\n",
       "      <td>Manufacturing</td>\n",
       "      <td>High Net Worth</td>\n",
       "      <td>N</td>\n",
       "      <td>â¦testâ§</td>\n",
       "      <td>Yes</td>\n",
       "      <td>1</td>\n",
       "    </tr>\n",
       "    <tr>\n",
       "      <th>3998</th>\n",
       "      <td>3998</td>\n",
       "      <td>Sarene</td>\n",
       "      <td>Woolley</td>\n",
       "      <td>U</td>\n",
       "      <td>60</td>\n",
       "      <td>NaN</td>\n",
       "      <td>Assistant Manager</td>\n",
       "      <td>IT</td>\n",
       "      <td>High Net Worth</td>\n",
       "      <td>N</td>\n",
       "      <td>NaN</td>\n",
       "      <td>No</td>\n",
       "      <td>NaN</td>\n",
       "    </tr>\n",
       "    <tr>\n",
       "      <th>3999</th>\n",
       "      <td>3999</td>\n",
       "      <td>Patrizius</td>\n",
       "      <td>NaN</td>\n",
       "      <td>Male</td>\n",
       "      <td>11</td>\n",
       "      <td>1973-10-24 00:00:00</td>\n",
       "      <td>NaN</td>\n",
       "      <td>Manufacturing</td>\n",
       "      <td>Affluent Customer</td>\n",
       "      <td>N</td>\n",
       "      <td>Â¡â¢Â£Â¢âÂ§Â¶â¢ÂªÂºââ</td>\n",
       "      <td>Yes</td>\n",
       "      <td>10</td>\n",
       "    </tr>\n",
       "    <tr>\n",
       "      <th>4000</th>\n",
       "      <td>4000</td>\n",
       "      <td>Kippy</td>\n",
       "      <td>Oldland</td>\n",
       "      <td>Male</td>\n",
       "      <td>76</td>\n",
       "      <td>1991-11-05 00:00:00</td>\n",
       "      <td>Software Engineer IV</td>\n",
       "      <td>NaN</td>\n",
       "      <td>Affluent Customer</td>\n",
       "      <td>N</td>\n",
       "      <td>0/0</td>\n",
       "      <td>No</td>\n",
       "      <td>11</td>\n",
       "    </tr>\n",
       "  </tbody>\n",
       "</table>\n",
       "<p>4000 rows × 13 columns</p>\n",
       "</div>"
      ],
      "text/plain": [
       "     customer_id           fname      lname  gender 3y_bike_purchases  \\\n",
       "1              1         Laraine  Medendorp       F                93   \n",
       "2              2             Eli    Bockman    Male                81   \n",
       "3              3           Arlin     Dearle    Male                61   \n",
       "4              4          Talbot        NaN    Male                33   \n",
       "5              5  Sheila-kathryn     Calton  Female                56   \n",
       "...          ...             ...        ...     ...               ...   \n",
       "3996        3996         Rosalia   Halgarth  Female                 8   \n",
       "3997        3997          Blanch     Nisuis  Female                87   \n",
       "3998        3998          Sarene    Woolley       U                60   \n",
       "3999        3999       Patrizius        NaN    Male                11   \n",
       "4000        4000           Kippy    Oldland    Male                76   \n",
       "\n",
       "                      DOB                      JT            Category  \\\n",
       "1     1953-10-12 00:00:00     Executive Secretary              Health   \n",
       "2     1980-12-16 00:00:00  Administrative Officer  Financial Services   \n",
       "3     1954-01-20 00:00:00      Recruiting Manager            Property   \n",
       "4     1961-10-03 00:00:00                     NaN                  IT   \n",
       "5     1977-05-13 00:00:00           Senior Editor                 NaN   \n",
       "...                   ...                     ...                 ...   \n",
       "3996  1975-08-09 00:00:00   VP Product Management              Health   \n",
       "3997  2001-07-13 00:00:00         Statistician II       Manufacturing   \n",
       "3998                  NaN       Assistant Manager                  IT   \n",
       "3999  1973-10-24 00:00:00                     NaN       Manufacturing   \n",
       "4000  1991-11-05 00:00:00    Software Engineer IV                 NaN   \n",
       "\n",
       "        wealth_segement D_Indicator  \\\n",
       "1         Mass Customer           N   \n",
       "2         Mass Customer           N   \n",
       "3         Mass Customer           N   \n",
       "4         Mass Customer           N   \n",
       "5     Affluent Customer           N   \n",
       "...                 ...         ...   \n",
       "3996      Mass Customer           N   \n",
       "3997     High Net Worth           N   \n",
       "3998     High Net Worth           N   \n",
       "3999  Affluent Customer           N   \n",
       "4000  Affluent Customer           N   \n",
       "\n",
       "                                                default owns_car tencure  \n",
       "1                                                    \"'      Yes      11  \n",
       "2                          <script>alert('hi')</script>      Yes      16  \n",
       "3                                   2018-02-01 00:00:00      Yes      15  \n",
       "4     () { _; } >_[$($())] { touch /tmp/blns.shellsh...       No       7  \n",
       "5                                                   NIL      Yes       8  \n",
       "...                                                 ...      ...     ...  \n",
       "3996                                               -100       No      19  \n",
       "3997                                           â¦testâ§      Yes       1  \n",
       "3998                                                NaN       No     NaN  \n",
       "3999                             Â¡â¢Â£Â¢âÂ§Â¶â¢ÂªÂºââ       Yes      10  \n",
       "4000                                                0/0       No      11  \n",
       "\n",
       "[4000 rows x 13 columns]"
      ]
     },
     "execution_count": 11,
     "metadata": {},
     "output_type": "execute_result"
    }
   ],
   "source": [
    "#Its better to Rename for the better Understanding of the features\n",
    "df.rename(columns={\"Note: The data and information in this document is reflective of a hypothetical situation and client. This document is to be used for KPMG Virtual Internship purposes only. \":\"customer_id\"}, inplace = True)\n",
    "df.rename(columns={\"Unnamed: 1\":\"fname\",\n",
    "                   \"Unnamed: 2\":\"lname\",\n",
    "                   \"Unnamed: 3\":\"gender\",\n",
    "                   \"Unnamed: 4\":\"3y_bike_purchases\",\n",
    "                   \"Unnamed: 5\":\"DOB\",\n",
    "                   \"Unnamed: 6\":\"JT\"}, inplace = True)\n",
    "df.rename(columns={\"Unnamed: 7\":\"Category\",\n",
    "                   \"Unnamed: 8\":\"wealth_segement\",\n",
    "                   \"Unnamed: 9\":\"D_Indicator\",\n",
    "                   \"Unnamed: 10\":\"default\",\n",
    "                   \"Unnamed: 11\":\"owns_car\",\n",
    "                   \"Unnamed: 12\":\"tencure\"}, inplace = True)\n",
    "df=df.iloc[1:]\n",
    "df"
   ]
  },
  {
   "cell_type": "code",
   "execution_count": 15,
   "metadata": {},
   "outputs": [
    {
     "data": {
      "text/plain": [
       "['customer_id',\n",
       " 'fname',\n",
       " 'lname',\n",
       " 'gender',\n",
       " '3y_bike_purchases',\n",
       " 'DOB',\n",
       " 'JT',\n",
       " 'Category',\n",
       " 'wealth_segement',\n",
       " 'D_Indicator',\n",
       " 'default',\n",
       " 'owns_car',\n",
       " 'tencure']"
      ]
     },
     "execution_count": 15,
     "metadata": {},
     "output_type": "execute_result"
    }
   ],
   "source": [
    "list(df)"
   ]
  },
  {
   "cell_type": "code",
   "execution_count": 16,
   "metadata": {},
   "outputs": [
    {
     "name": "stdout",
     "output_type": "stream",
     "text": [
      "[0, 0, 125, 0, 0, 87, 506, 656, 0, 0, 302, 0, 87] 13\n"
     ]
    }
   ],
   "source": [
    "def check_NA():\n",
    "    ret = []\n",
    "    temp = list(df)\n",
    "    for each in temp:\n",
    "        ret.append(df[each].isna().sum())\n",
    "    return ret\n",
    "\n",
    "NaNlist = check_NA()\n",
    "print(NaNlist, len(NaNlist))\n",
    "# columns need to be check\n",
    "check = []\n",
    "k     = -1\n",
    "for i in NaNlist:\n",
    "    k += 1\n",
    "    if i > 0:\n",
    "        check.append(k)\n",
    "def check_unique():\n",
    "    temp = list(df)\n",
    "    mydict = {}\n",
    "    for i in range(3, 13):\n",
    "        ct = 0\n",
    "        if NaNlist[i] > 0:\n",
    "            ct = len(df[temp[i]].unique()) - 1\n",
    "        else:\n",
    "            ct = len(df[temp[i]].unique())\n",
    "        mydict[temp[i]] = (ct, df[temp[i]].unique())\n",
    "    return mydict"
   ]
  },
  {
   "cell_type": "code",
   "execution_count": 17,
   "metadata": {},
   "outputs": [
    {
     "name": "stdout",
     "output_type": "stream",
     "text": [
      "[2039, 1873, 88]\n"
     ]
    }
   ],
   "source": [
    "#Analyze the Gender vs Bikes bought\n",
    "#array(['F', 'Male', 'Female', 'U', 'Femal', 'M'] from KPMG_VI.py\n",
    "gender = [0,0,0] #first is Female, second is Male, third is Unknown\n",
    "for each in df['gender']:\n",
    "    if each[0] == \"F\":\n",
    "        gender[0] += 1\n",
    "    elif each[0] == \"M\":\n",
    "        gender[1] += 1\n",
    "    else:\n",
    "        gender[2] += 1\n",
    "\n",
    "print(gender)\n",
    "def gf(x, pos):\n",
    "    #'The two args are the value and gender'\n",
    "    return int(x)\n",
    "\n",
    "bike = [0,0,0]\n",
    "bike[0] += df['3y_bike_purchases'][df['gender'] == 'Female'].sum() + df['3y_bike_purchases'][df['gender'] == 'F'].sum()\n",
    "bike[1] += df['3y_bike_purchases'][df['gender'] == 'Male'].sum() + df['3y_bike_purchases'][df['gender'] == 'M'].sum()\n",
    "bike[2] += df['3y_bike_purchases'][df['gender'] == 'U'].sum()\n",
    "\n",
    "grapho = [gender[0], bike[0], gender[1], bike[1], gender[2], bike[2]]\n",
    "graphl = [gender[0]*10, bike[0], gender[1]*10, bike[1], gender[2]*10, bike[2]]\n",
    "colorr = (0.3,0.1,0.4,0.6)"
   ]
  },
  {
   "cell_type": "code",
   "execution_count": 18,
   "metadata": {},
   "outputs": [
    {
     "data": {
      "text/plain": [
       "([<matplotlib.axis.XTick at 0x1e116fb75c8>,\n",
       "  <matplotlib.axis.XTick at 0x1e116fb7588>,\n",
       "  <matplotlib.axis.XTick at 0x1e116fb4b08>,\n",
       "  <matplotlib.axis.XTick at 0x1e116ff4608>,\n",
       "  <matplotlib.axis.XTick at 0x1e116ff4e08>,\n",
       "  <matplotlib.axis.XTick at 0x1e116ff8708>],\n",
       " [Text(0, 0, 'Female'),\n",
       "  Text(0, 0, \"F's P\"),\n",
       "  Text(0, 0, 'Male'),\n",
       "  Text(0, 0, \"M's P\"),\n",
       "  Text(0, 0, 'Unknown'),\n",
       "  Text(0, 0, \"U's P\")])"
      ]
     },
     "execution_count": 18,
     "metadata": {},
     "output_type": "execute_result"
    },
    {
     "data": {
      "image/png": "[encoded data removed]",
      "text/plain": [
       "<Figure size 432x288 with 1 Axes>"
      ]
     },
     "metadata": {
      "needs_background": "light"
     },
     "output_type": "display_data"
    }
   ],
   "source": [
    "#scale up gender by 10 for easier visualization\n",
    "formatter = FuncFormatter(gf)\n",
    "x = np.arange(6)\n",
    "fig, ax = plt.subplots()\n",
    "ax.set_ylabel('Number of people')\n",
    "ax.yaxis.set_major_formatter(formatter)\n",
    "plt.bar(x, graphl, color = colorr)\n",
    "for i in range(len(gender*2)):\n",
    "    plt.text(x = i-0.2, y = graphl[i]+0.1, s = grapho[i], size = 10)\n",
    "\n",
    "plt.xticks(x, ('Female', \"F's P\", 'Male', \"M's P\", 'Unknown', \"U's P\"))"
   ]
  },
  {
   "cell_type": "code",
   "execution_count": 19,
   "metadata": {},
   "outputs": [
    {
     "data": {
      "text/plain": [
       "([<matplotlib.axis.XTick at 0x1e114e77a88>,\n",
       "  <matplotlib.axis.XTick at 0x1e114e77b08>,\n",
       "  <matplotlib.axis.XTick at 0x1e114e67688>],\n",
       " [Text(0, 0, 'Female'), Text(0, 0, 'Male'), Text(0, 0, 'Unknown')])"
      ]
     },
     "execution_count": 19,
     "metadata": {},
     "output_type": "execute_result"
    },
    {
     "data": {
      "image/png": "[encoded data removed]",
      "text/plain": [
       "<Figure size 432x288 with 1 Axes>"
      ]
     },
     "metadata": {
      "needs_background": "light"
     },
     "output_type": "display_data"
    }
   ],
   "source": [
    "avg  = [0,0,0]\n",
    "ss   = sum(bike)\n",
    "for i in range(len(avg)):\n",
    "    avg[i] += round(bike[i]/ss,3) \n",
    "\n",
    "x1 = np.arange(3)\n",
    "fig1, ax1 = plt.subplots()\n",
    "ax1.set_ylabel('Percentage bikes bought by gender')\n",
    "plt.bar(x1, avg, color = colorr)\n",
    "for i in range(len(avg)):\n",
    "    plt.text(x = i-0.15, y = avg[i], s = avg[i], size = 10)\n",
    "\n",
    "plt.xticks(x1, ('Female', 'Male', 'Unknown'))"
   ]
  },
  {
   "cell_type": "code",
   "execution_count": 20,
   "metadata": {},
   "outputs": [
    {
     "name": "stdout",
     "output_type": "stream",
     "text": [
      "1953\n",
      "0\n"
     ]
    }
   ],
   "source": [
    "#Analyze on the age vs bikes bought\n",
    "#Needs to transform\n",
    "print(df[\"DOB\"][1].ctime().split(\" \")[4])\n",
    "df[\"Age\"] = 0\n",
    "lenn = len(df[\"DOB\"])\n",
    "k    = 0\n",
    "for i in range(1, lenn):\n",
    "    #type is date\n",
    "    if isinstance(df[\"DOB\"][i], datetime.date):\n",
    "        tl = len(df[\"DOB\"][i].ctime().split(\" \"))\n",
    "        df[\"Age\"][i] += int(2019 - int(df[\"DOB\"][i].ctime().split(\" \")[tl-1]))\n",
    "    #type is string\n",
    "    elif isinstance(df[\"DOB\"][i], str):\n",
    "        tl = len(df[\"DOB\"][i].split(\"-\"))\n",
    "        df[\"Age\"][i] += int(2019 - int(df[\"DOB\"][i].split(\"-\")[tl-1])) \n",
    "    #time is float: means it's nan value so do nothing\n",
    "print(k)"
   ]
  },
  {
   "cell_type": "code",
   "execution_count": 21,
   "metadata": {},
   "outputs": [
    {
     "data": {
      "text/html": [
       "<div>\n",
       "<style scoped>\n",
       "    .dataframe tbody tr th:only-of-type {\n",
       "        vertical-align: middle;\n",
       "    }\n",
       "\n",
       "    .dataframe tbody tr th {\n",
       "        vertical-align: top;\n",
       "    }\n",
       "\n",
       "    .dataframe thead th {\n",
       "        text-align: right;\n",
       "    }\n",
       "</style>\n",
       "<table border=\"1\" class=\"dataframe\">\n",
       "  <thead>\n",
       "    <tr style=\"text-align: right;\">\n",
       "      <th></th>\n",
       "      <th>customer_id</th>\n",
       "      <th>fname</th>\n",
       "      <th>lname</th>\n",
       "      <th>gender</th>\n",
       "      <th>3y_bike_purchases</th>\n",
       "      <th>DOB</th>\n",
       "      <th>JT</th>\n",
       "      <th>Category</th>\n",
       "      <th>wealth_segement</th>\n",
       "      <th>D_Indicator</th>\n",
       "      <th>default</th>\n",
       "      <th>owns_car</th>\n",
       "      <th>tencure</th>\n",
       "      <th>Age</th>\n",
       "    </tr>\n",
       "  </thead>\n",
       "  <tbody>\n",
       "    <tr>\n",
       "      <th>1</th>\n",
       "      <td>1</td>\n",
       "      <td>Laraine</td>\n",
       "      <td>Medendorp</td>\n",
       "      <td>F</td>\n",
       "      <td>93</td>\n",
       "      <td>1953-10-12 00:00:00</td>\n",
       "      <td>Executive Secretary</td>\n",
       "      <td>Health</td>\n",
       "      <td>Mass Customer</td>\n",
       "      <td>N</td>\n",
       "      <td>\"'</td>\n",
       "      <td>Yes</td>\n",
       "      <td>11</td>\n",
       "      <td>66</td>\n",
       "    </tr>\n",
       "    <tr>\n",
       "      <th>2</th>\n",
       "      <td>2</td>\n",
       "      <td>Eli</td>\n",
       "      <td>Bockman</td>\n",
       "      <td>Male</td>\n",
       "      <td>81</td>\n",
       "      <td>1980-12-16 00:00:00</td>\n",
       "      <td>Administrative Officer</td>\n",
       "      <td>Financial Services</td>\n",
       "      <td>Mass Customer</td>\n",
       "      <td>N</td>\n",
       "      <td>&lt;script&gt;alert('hi')&lt;/script&gt;</td>\n",
       "      <td>Yes</td>\n",
       "      <td>16</td>\n",
       "      <td>39</td>\n",
       "    </tr>\n",
       "    <tr>\n",
       "      <th>3</th>\n",
       "      <td>3</td>\n",
       "      <td>Arlin</td>\n",
       "      <td>Dearle</td>\n",
       "      <td>Male</td>\n",
       "      <td>61</td>\n",
       "      <td>1954-01-20 00:00:00</td>\n",
       "      <td>Recruiting Manager</td>\n",
       "      <td>Property</td>\n",
       "      <td>Mass Customer</td>\n",
       "      <td>N</td>\n",
       "      <td>2018-02-01 00:00:00</td>\n",
       "      <td>Yes</td>\n",
       "      <td>15</td>\n",
       "      <td>65</td>\n",
       "    </tr>\n",
       "    <tr>\n",
       "      <th>4</th>\n",
       "      <td>4</td>\n",
       "      <td>Talbot</td>\n",
       "      <td>NaN</td>\n",
       "      <td>Male</td>\n",
       "      <td>33</td>\n",
       "      <td>1961-10-03 00:00:00</td>\n",
       "      <td>NaN</td>\n",
       "      <td>IT</td>\n",
       "      <td>Mass Customer</td>\n",
       "      <td>N</td>\n",
       "      <td>() { _; } &gt;_[$($())] { touch /tmp/blns.shellsh...</td>\n",
       "      <td>No</td>\n",
       "      <td>7</td>\n",
       "      <td>58</td>\n",
       "    </tr>\n",
       "    <tr>\n",
       "      <th>5</th>\n",
       "      <td>5</td>\n",
       "      <td>Sheila-kathryn</td>\n",
       "      <td>Calton</td>\n",
       "      <td>Female</td>\n",
       "      <td>56</td>\n",
       "      <td>1977-05-13 00:00:00</td>\n",
       "      <td>Senior Editor</td>\n",
       "      <td>NaN</td>\n",
       "      <td>Affluent Customer</td>\n",
       "      <td>N</td>\n",
       "      <td>NIL</td>\n",
       "      <td>Yes</td>\n",
       "      <td>8</td>\n",
       "      <td>42</td>\n",
       "    </tr>\n",
       "  </tbody>\n",
       "</table>\n",
       "</div>"
      ],
      "text/plain": [
       "  customer_id           fname      lname  gender 3y_bike_purchases  \\\n",
       "1           1         Laraine  Medendorp       F                93   \n",
       "2           2             Eli    Bockman    Male                81   \n",
       "3           3           Arlin     Dearle    Male                61   \n",
       "4           4          Talbot        NaN    Male                33   \n",
       "5           5  Sheila-kathryn     Calton  Female                56   \n",
       "\n",
       "                   DOB                      JT            Category  \\\n",
       "1  1953-10-12 00:00:00     Executive Secretary              Health   \n",
       "2  1980-12-16 00:00:00  Administrative Officer  Financial Services   \n",
       "3  1954-01-20 00:00:00      Recruiting Manager            Property   \n",
       "4  1961-10-03 00:00:00                     NaN                  IT   \n",
       "5  1977-05-13 00:00:00           Senior Editor                 NaN   \n",
       "\n",
       "     wealth_segement D_Indicator  \\\n",
       "1      Mass Customer           N   \n",
       "2      Mass Customer           N   \n",
       "3      Mass Customer           N   \n",
       "4      Mass Customer           N   \n",
       "5  Affluent Customer           N   \n",
       "\n",
       "                                             default owns_car tencure  Age  \n",
       "1                                                 \"'      Yes      11   66  \n",
       "2                       <script>alert('hi')</script>      Yes      16   39  \n",
       "3                                2018-02-01 00:00:00      Yes      15   65  \n",
       "4  () { _; } >_[$($())] { touch /tmp/blns.shellsh...       No       7   58  \n",
       "5                                                NIL      Yes       8   42  "
      ]
     },
     "execution_count": 21,
     "metadata": {},
     "output_type": "execute_result"
    }
   ],
   "source": [
    "df.head(5)"
   ]
  },
  {
   "cell_type": "code",
   "execution_count": 22,
   "metadata": {},
   "outputs": [
    {
     "name": "stdout",
     "output_type": "stream",
     "text": [
      "166020\n",
      "[2039, 1872, 1]\n",
      "42.0\n",
      "34.0\n"
     ]
    }
   ],
   "source": [
    "#same index as above\n",
    "ngenage = [0,0,0]\n",
    "j       = 1\n",
    "ss      = 0\n",
    "stdv    = []\n",
    "for each in df['gender']:\n",
    "    if each[0] == \"F\" and df['Age'][j] != 0:\n",
    "        ss   += df['Age'][j]\n",
    "        stdv.append((df['Age'][j]))\n",
    "        ngenage[0] += 1\n",
    "    elif each[0] == \"M\" and df['Age'][j] != 0:\n",
    "        ss += df['Age'][j]\n",
    "        stdv.append((df['Age'][j]))\n",
    "        ngenage[1] += 1\n",
    "    elif df['Age'][j] != 0: \n",
    "        ss += df['Age'][j]\n",
    "        stdv.append((df['Age'][j]))\n",
    "        ngenage[2] += 1\n",
    "    j += 1\n",
    "print(ss)\n",
    "print(ngenage) # as we can see, unknonwn gender will unlikely to have age, don't care about gender U\n",
    "#average age not counting 0 is \n",
    "mean_val = round(ss/sum(ngenage),0)\n",
    "print(mean_val)\n",
    "stdv_val = round(ma.sqrt(1/(sum(ngenage)-1)*sum((stdv - (ss/sum(ngenage)))**2)),0)\n",
    "print(stdv_val)"
   ]
  },
  {
   "cell_type": "code",
   "execution_count": 23,
   "metadata": {},
   "outputs": [
    {
     "name": "stdout",
     "output_type": "stream",
     "text": [
      "25.0 42.0 59.0\n"
     ]
    }
   ],
   "source": [
    "#pruchases from age 42 - 34/2, 42, 42 + 34/2 \n",
    "age_dict = {}\n",
    "f1  = []\n",
    "bf1 = []\n",
    "f2  = []\n",
    "bf2 = []\n",
    "f3  = []\n",
    "bf3 = []\n",
    "f4  = []\n",
    "bf4 = []\n",
    "m1  = []\n",
    "bm1 = []\n",
    "m2  = []\n",
    "bm2 = []\n",
    "m3  = []\n",
    "bm3 = []\n",
    "m4  = []\n",
    "bm4 = []\n",
    "fq = mean_val - stdv_val/2\n",
    "sq = mean_val\n",
    "tq = mean_val + stdv_val/2\n",
    "print(fq, sq, tq)\n",
    "jjj = 1\n",
    "for each in df['gender']:\n",
    "    temp = int(df['Age'][jjj])\n",
    "    bkt  = int(df['3y_bike_purchases'][jjj])\n",
    "    if each[0] == \"F\" and temp != 0:\n",
    "        if(temp <= fq):\n",
    "            f1.append(temp)\n",
    "            bf1.append(bkt)\n",
    "        elif(fq < temp and temp <= sq):\n",
    "            f2.append(temp)\n",
    "            bf2.append(bkt)\n",
    "        elif(sq < temp and temp <= tq):\n",
    "            f3.append(temp)\n",
    "            bf3.append(bkt)\n",
    "        elif(tq < temp):\n",
    "            f4.append(temp)\n",
    "            bf4.append(bkt)\n",
    "    elif each[0] == \"M\" and temp != 0:\n",
    "        if(temp <= fq):\n",
    "            m1.append(temp)\n",
    "            bm1.append(bkt)\n",
    "        elif(fq < temp and temp <= sq):\n",
    "            m2.append(temp)\n",
    "            bm2.append(bkt)\n",
    "        elif(sq < temp and temp <= tq):\n",
    "            m3.append(temp)\n",
    "            bm3.append(bkt)\n",
    "        elif(tq < temp):\n",
    "            m4.append(temp)\n",
    "            bm4.append(bkt)\n",
    "    jjj += 1\n",
    "dtt = {\"Female1\":f1,\n",
    "       \"Female2\":f2,\n",
    "       \"Female3\":f3,\n",
    "       \"Female4\":f4,\n",
    "       \"Male1\":m1,\n",
    "       \"Male2\":m2,\n",
    "       \"Male3\":m3,\n",
    "       \"Male4\":m4,\n",
    "      }"
   ]
  },
  {
   "cell_type": "code",
   "execution_count": 24,
   "metadata": {},
   "outputs": [
    {
     "name": "stdout",
     "output_type": "stream",
     "text": [
      "273 775 778 213\n",
      "259 747 653 213\n"
     ]
    }
   ],
   "source": [
    "print(len(dtt[\"Female1\"]), len(dtt[\"Female2\"]), len(dtt[\"Female3\"]), len(dtt[\"Female4\"]))\n",
    "print(len(dtt[\"Male1\"]), len(dtt[\"Male2\"]), len(dtt[\"Male3\"]), len(dtt[\"Male4\"]))"
   ]
  },
  {
   "cell_type": "code",
   "execution_count": 25,
   "metadata": {},
   "outputs": [
    {
     "data": {
      "text/plain": [
       "([<matplotlib.axis.XTick at 0x1e114f5b108>,\n",
       "  <matplotlib.axis.XTick at 0x1e114f5b088>,\n",
       "  <matplotlib.axis.XTick at 0x1e114e92308>,\n",
       "  <matplotlib.axis.XTick at 0x1e11703bec8>,\n",
       "  <matplotlib.axis.XTick at 0x1e117041348>,\n",
       "  <matplotlib.axis.XTick at 0x1e117041808>,\n",
       "  <matplotlib.axis.XTick at 0x1e1170441c8>,\n",
       "  <matplotlib.axis.XTick at 0x1e117044688>],\n",
       " [Text(0, 0, 'Fq1'),\n",
       "  Text(0, 0, 'Mq1'),\n",
       "  Text(0, 0, 'Fq2'),\n",
       "  Text(0, 0, 'Mq2'),\n",
       "  Text(0, 0, 'Fq3'),\n",
       "  Text(0, 0, 'Mq3'),\n",
       "  Text(0, 0, 'Fq4'),\n",
       "  Text(0, 0, 'Mq4')])"
      ]
     },
     "execution_count": 25,
     "metadata": {},
     "output_type": "execute_result"
    },
    {
     "data": {
      "image/png": "[encoded data removed]",
      "text/plain": [
       "<Figure size 432x288 with 1 Axes>"
      ]
     },
     "metadata": {
      "needs_background": "light"
     },
     "output_type": "display_data"
    }
   ],
   "source": [
    "graphgen = [len(dtt[\"Female1\"]), len(dtt[\"Male1\"]), len(dtt[\"Female2\"]), len(dtt[\"Male2\"]), len(dtt[\"Female3\"]), len(dtt[\"Male3\"]), len(dtt[\"Female4\"]), len(dtt[\"Male4\"])]\n",
    "colorr = (0.7,0.7,0.7,0.7)\n",
    "\n",
    "x2 = np.arange(8)\n",
    "fig2, ax2 = plt.subplots()\n",
    "ax2.set_ylabel('Number of people')\n",
    "plt.bar(x2, graphgen, color = colorr)\n",
    "for i in range(len(graphgen)):\n",
    "    plt.text(x = i-0.2, y = graphgen[i]+0.1, s = graphgen[i], size = 10)\n",
    "\n",
    "plt.xticks(x2, ('Fq1', \"Mq1\", 'Fq2', \"Mq2\", 'Fq3', \"Mq3\", 'Fq4', \"Mq4\"))"
   ]
  },
  {
   "cell_type": "code",
   "execution_count": 26,
   "metadata": {},
   "outputs": [
    {
     "data": {
      "text/plain": [
       "Manufacturing         799\n",
       "Financial Services    774\n",
       "Health                602\n",
       "Retail                358\n",
       "Property              267\n",
       "IT                    223\n",
       "Entertainment         136\n",
       "Argiculture           113\n",
       "Telecommunications     72\n",
       "Name: Category, dtype: int64"
      ]
     },
     "execution_count": 26,
     "metadata": {},
     "output_type": "execute_result"
    }
   ],
   "source": [
    "#check_unique()[\"Category\"]\n",
    "df[\"Category\"].value_counts()"
   ]
  },
  {
   "cell_type": "code",
   "execution_count": 27,
   "metadata": {},
   "outputs": [
    {
     "data": {
      "text/plain": [
       "([<matplotlib.axis.XTick at 0x1e11705db48>,\n",
       "  <matplotlib.axis.XTick at 0x1e114ed7648>,\n",
       "  <matplotlib.axis.XTick at 0x1e11706d448>,\n",
       "  <matplotlib.axis.XTick at 0x1e117094748>,\n",
       "  <matplotlib.axis.XTick at 0x1e117094b88>,\n",
       "  <matplotlib.axis.XTick at 0x1e117097208>,\n",
       "  <matplotlib.axis.XTick at 0x1e117097a88>,\n",
       "  <matplotlib.axis.XTick at 0x1e11709a408>,\n",
       "  <matplotlib.axis.XTick at 0x1e11709adc8>],\n",
       " [Text(0, 0, 'Manu'),\n",
       "  Text(0, 0, 'Finance'),\n",
       "  Text(0, 0, 'Health'),\n",
       "  Text(0, 0, 'Retail'),\n",
       "  Text(0, 0, 'Property'),\n",
       "  Text(0, 0, 'IT'),\n",
       "  Text(0, 0, 'Entertain'),\n",
       "  Text(0, 0, 'Agri'),\n",
       "  Text(0, 0, 'Telecom')])"
      ]
     },
     "execution_count": 27,
     "metadata": {},
     "output_type": "execute_result"
    },
    {
     "data": {
      "image/png": "[encoded data removed]",
      "text/plain": [
       "<Figure size 432x288 with 1 Axes>"
      ]
     },
     "metadata": {
      "needs_background": "light"
     },
     "output_type": "display_data"
    }
   ],
   "source": [
    "val = [799, 774, 602, 358, 267, 223, 136, 113, 72]\n",
    "colorr = (0.2,0.3,0.4,0.5)\n",
    "\n",
    "x3 = np.arange(9)\n",
    "fig3, ax3 = plt.subplots()\n",
    "ax3.set_ylabel('Number of people')\n",
    "plt.bar(x3, val, color = colorr, width = 0.5)\n",
    "for i in range(len(val)):\n",
    "    plt.text(x = i-0.25, y = val[i]+0.1, s = val[i], size = 10)\n",
    "\n",
    "plt.xticks(x3, (\"Manu\", \"Finance\", \"Health\", \"Retail\", \"Property\", \"IT\", \"Entertain\", \"Agri\", \"Telecom\"))"
   ]
  },
  {
   "cell_type": "code",
   "execution_count": 28,
   "metadata": {},
   "outputs": [
    {
     "data": {
      "text/plain": [
       "Mass Customer        2000\n",
       "High Net Worth       1021\n",
       "Affluent Customer     979\n",
       "Name: wealth_segement, dtype: int64"
      ]
     },
     "execution_count": 28,
     "metadata": {},
     "output_type": "execute_result"
    }
   ],
   "source": [
    "check_unique()[\"wealth_segement\"]\n",
    "df[\"wealth_segement\"].value_counts()"
   ]
  },
  {
   "cell_type": "code",
   "execution_count": 29,
   "metadata": {},
   "outputs": [
    {
     "name": "stdout",
     "output_type": "stream",
     "text": [
      "261 777 697 219\n",
      "125 399 361 111\n",
      "146 346 470 0\n"
     ]
    }
   ],
   "source": [
    "#split into 3: M (Mass), H(High), A(Affluent)\n",
    "jjj = 1\n",
    "wsm = {\"q1\":[], \"q2\":[], \"q3\":[], \"q4\":[]}\n",
    "wsh = {\"q1\":[], \"q2\":[], \"q3\":[], \"q4\":[]}\n",
    "wsa = {\"q1\":[], \"q2\":[], \"q3\":[], \"q4\":[]}\n",
    "\n",
    "for each in df['wealth_segement']:\n",
    "    temp = int(df['Age'][jjj])\n",
    "    if each[0] == \"M\" and temp != 0:\n",
    "        if(temp <= fq):\n",
    "            wsm[\"q1\"].append(temp)\n",
    "        elif(fq < temp and temp <= sq):\n",
    "            wsm[\"q2\"].append(temp)\n",
    "        elif(sq < temp and temp <= tq):\n",
    "            wsm[\"q3\"].append(temp)\n",
    "        elif(tq < temp):\n",
    "            wsm[\"q4\"].append(temp)\n",
    "    elif each[0] == \"H\" and temp != 0:\n",
    "        if(temp <= fq):\n",
    "            wsh[\"q1\"].append(temp)\n",
    "        elif(fq < temp and temp <= sq):\n",
    "            wsh[\"q2\"].append(temp)\n",
    "        elif(sq < temp and temp <= tq):\n",
    "            wsh[\"q3\"].append(temp)\n",
    "        elif(tq < temp):\n",
    "            wsh[\"q4\"].append(temp)\n",
    "    elif each[0] == \"A\" and temp != 0:\n",
    "        if(temp <= fq):\n",
    "            wsa[\"q1\"].append(temp)\n",
    "        elif(fq < temp and temp <= sq):\n",
    "            wsa[\"q2\"].append(temp)\n",
    "        elif(sq < temp and temp <= tq):\n",
    "            wsa[\"q3\"].append(temp)\n",
    "        elif(tq < temp):\n",
    "            wsa[\"q3\"].append(temp)\n",
    "    jjj += 1\n",
    "print(len(wsm[\"q1\"]), len(wsm[\"q2\"]), len(wsm[\"q3\"]), len(wsm[\"q4\"]))\n",
    "print(len(wsh[\"q1\"]), len(wsh[\"q2\"]), len(wsh[\"q3\"]), len(wsh[\"q4\"]))\n",
    "print(len(wsa[\"q1\"]), len(wsa[\"q2\"]), len(wsa[\"q3\"]), len(wsa[\"q4\"]))"
   ]
  },
  {
   "cell_type": "code",
   "execution_count": 30,
   "metadata": {},
   "outputs": [
    {
     "data": {
      "image/png": "[encoded data removed]",
      "text/plain": [
       "<Figure size 432x288 with 1 Axes>"
      ]
     },
     "metadata": {
      "needs_background": "light"
     },
     "output_type": "display_data"
    }
   ],
   "source": [
    "N = 4\n",
    "wsmtp = [len(wsm[\"q1\"]), len(wsm[\"q2\"]), len(wsm[\"q3\"]), len(wsm[\"q4\"])]\n",
    "wshtp = [len(wsh[\"q1\"]), len(wsh[\"q2\"]), len(wsh[\"q3\"]), len(wsh[\"q4\"])]\n",
    "wsatp = [len(wsa[\"q1\"]), len(wsa[\"q2\"]), len(wsa[\"q3\"]), len(wsa[\"q4\"])]\n",
    "\n",
    "bars = np.add(wsmtp, wshtp).tolist()\n",
    "r = [0,1,2,3,4]\n",
    "\n",
    "ind   = np.arange(N) # the x locations for the groups\n",
    "width = 0.35       # the width of the bars: can also be len(x) sequence\n",
    "\n",
    "p1 = plt.bar(ind, wsmtp, width)\n",
    "p2 = plt.bar(ind, wshtp, width,  bottom=wsmtp)\n",
    "p3 = plt.bar(ind, wsatp, width,  bottom=bars)\n",
    "\n",
    "plt.ylabel('Amount of people')\n",
    "plt.title('Wealth segements by ages')\n",
    "plt.xticks(ind, ('q1', 'q2', 'q3', 'q4'))\n",
    "plt.yticks(np.arange(0, 1500, 100))\n",
    "plt.legend((p1[0], p2[0], p3[0]), ('Mass', 'High Net', 'Affluent'))\n",
    "\n",
    "plt.show()"
   ]
  },
  {
   "cell_type": "code",
   "execution_count": 31,
   "metadata": {},
   "outputs": [
    {
     "data": {
      "text/plain": [
       "Yes    2024\n",
       "No     1976\n",
       "Name: owns_car, dtype: int64"
      ]
     },
     "execution_count": 31,
     "metadata": {},
     "output_type": "execute_result"
    }
   ],
   "source": [
    "df[\"owns_car\"].value_counts()"
   ]
  },
  {
   "cell_type": "code",
   "execution_count": null,
   "metadata": {},
   "outputs": [],
   "source": []
  }
 ],
 "metadata": {
  "kernelspec": {
   "display_name": "Python 3",
   "language": "python",
   "name": "python3"
  },
  "language_info": {
   "codemirror_mode": {
    "name": "ipython",
    "version": 3
   },
   "file_extension": ".py",
   "mimetype": "text/x-python",
   "name": "python",
   "nbconvert_exporter": "python",
   "pygments_lexer": "ipython3",
   "version": "3.7.4"
  }
 },
 "nbformat": 4,
 "nbformat_minor": 2
}
